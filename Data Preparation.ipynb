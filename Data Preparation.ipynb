{
 "cells": [
  {
   "cell_type": "code",
   "execution_count": 1,
   "metadata": {
    "collapsed": true
   },
   "outputs": [],
   "source": [
    "%matplotlib inline\n",
    "import pandas as pd\n",
    "import numpy as np\n",
    "import time\n",
    "import seaborn as sns\n",
    "import folium\n",
    "import folium.plugins as plugins\n",
    "from sklearn.cluster import KMeans"
   ]
  },
  {
   "cell_type": "code",
   "execution_count": 2,
   "metadata": {
    "collapsed": true
   },
   "outputs": [],
   "source": [
    "train = pd.read_csv('./train.csv')\n",
    "test = pd.read_csv('./test.csv')"
   ]
  },
  {
   "cell_type": "code",
   "execution_count": 3,
   "metadata": {},
   "outputs": [
    {
     "name": "stdout",
     "output_type": "stream",
     "text": [
      "<class 'pandas.core.frame.DataFrame'>\n",
      "RangeIndex: 1458644 entries, 0 to 1458643\n",
      "Data columns (total 11 columns):\n",
      "id                    1458644 non-null object\n",
      "vendor_id             1458644 non-null int64\n",
      "pickup_datetime       1458644 non-null object\n",
      "dropoff_datetime      1458644 non-null object\n",
      "passenger_count       1458644 non-null int64\n",
      "pickup_longitude      1458644 non-null float64\n",
      "pickup_latitude       1458644 non-null float64\n",
      "dropoff_longitude     1458644 non-null float64\n",
      "dropoff_latitude      1458644 non-null float64\n",
      "store_and_fwd_flag    1458644 non-null object\n",
      "trip_duration         1458644 non-null int64\n",
      "dtypes: float64(4), int64(3), object(4)\n",
      "memory usage: 122.4+ MB\n"
     ]
    }
   ],
   "source": [
    "train.info()"
   ]
  },
  {
   "cell_type": "markdown",
   "metadata": {},
   "source": [
    "# Data Preparation"
   ]
  },
  {
   "cell_type": "markdown",
   "metadata": {},
   "source": [
    "## Check latitude/longitude bounds\n",
    "Latitude: -85 to +85, Longitude: -180 to +180"
   ]
  },
  {
   "cell_type": "code",
   "execution_count": 4,
   "metadata": {},
   "outputs": [
    {
     "name": "stdout",
     "output_type": "stream",
     "text": [
      "Latitude bounds: 34.359695434570305 to 51.88108444213867\n"
     ]
    }
   ],
   "source": [
    "print('Latitude bounds: {} to {}'.format(\n",
    "    max(train.pickup_latitude.min(), train.dropoff_latitude.min()),\n",
    "    max(train.pickup_latitude.max(), train.dropoff_latitude.max())\n",
    "))"
   ]
  },
  {
   "cell_type": "code",
   "execution_count": 5,
   "metadata": {
    "scrolled": false
   },
   "outputs": [
    {
     "name": "stdout",
     "output_type": "stream",
     "text": [
      "Longitude bounds: -121.9333038330078 to -61.33552932739258\n"
     ]
    }
   ],
   "source": [
    "print('Longitude bounds: {} to {}'.format(\n",
    "    max(train.pickup_longitude.min(), train.dropoff_longitude.min()),\n",
    "    max(train.pickup_longitude.max(), train.dropoff_longitude.max())\n",
    "))"
   ]
  },
  {
   "cell_type": "markdown",
   "metadata": {},
   "source": [
    "**Visualize some outliers locations on map**"
   ]
  },
  {
   "cell_type": "code",
   "execution_count": 14,
   "metadata": {
    "scrolled": true
   },
   "outputs": [
    {
     "data": {
      "text/html": [
       "<div style=\"width:100%;\"><div style=\"position:relative;width:100%;height:0;padding-bottom:60%;\"><iframe src=\"data:text/html;charset=utf-8;base64,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\" style=\"position:absolute;width:100%;height:100%;left:0;top:0;border:none !important;\" allowfullscreen webkitallowfullscreen mozallowfullscreen></iframe></div></div>"
      ],
      "text/plain": [
       "<folium.folium.Map at 0x1a1aee4080>"
      ]
     },
     "execution_count": 14,
     "metadata": {},
     "output_type": "execute_result"
    }
   ],
   "source": [
    "import folium # goelogical map\n",
    "map_1 = folium.Map(location=[40.767937,-73.982155 ],tiles='OpenStreetMap',\n",
    " zoom_start=12)\n",
    "#tile: 'OpenStreetMap','Stamen Terrain','Mapbox Bright','Mapbox Control room'\n",
    "for each in train[100000:1000000].iterrows():\n",
    "    if (each[1]['pickup_latitude']<35 or each[1]['pickup_latitude']>50) or (each[1]['pickup_longitude']<-100 or each[1]['pickup_longitude']>-65): \n",
    "        folium.CircleMarker([each[1]['pickup_latitude'],each[1]['pickup_longitude']],\n",
    "                        radius=3,\n",
    "                        color='red',\n",
    "                        popup=str(each[1]['pickup_latitude'])+','+str(each[1]['pickup_longitude']),\n",
    "                        fill_color='#FD8A6C'\n",
    "                        ).add_to(map_1)\n",
    "map_1"
   ]
  },
  {
   "cell_type": "markdown",
   "metadata": {},
   "source": [
    "Few locations are getting centred in sea and it is impossible to take a ride on the sea.  \n",
    "Next we do clean-up on latitude and longitude"
   ]
  },
  {
   "cell_type": "markdown",
   "metadata": {},
   "source": [
    "## Latitude and Longitude Clean-up"
   ]
  },
  {
   "cell_type": "code",
   "execution_count": 15,
   "metadata": {},
   "outputs": [
    {
     "ename": "NameError",
     "evalue": "name 'plt' is not defined",
     "output_type": "error",
     "traceback": [
      "\u001b[0;31m---------------------------------------------------------------------------\u001b[0m",
      "\u001b[0;31mNameError\u001b[0m                                 Traceback (most recent call last)",
      "\u001b[0;32m<ipython-input-15-917f464a2477>\u001b[0m in \u001b[0;36m<module>\u001b[0;34m()\u001b[0m\n\u001b[1;32m      2\u001b[0m \u001b[0;31m# seaborn sns\u001b[0m\u001b[0;34m\u001b[0m\u001b[0;34m\u001b[0m\u001b[0m\n\u001b[1;32m      3\u001b[0m \u001b[0msns\u001b[0m\u001b[0;34m.\u001b[0m\u001b[0mset\u001b[0m\u001b[0;34m(\u001b[0m\u001b[0mstyle\u001b[0m\u001b[0;34m=\u001b[0m\u001b[0;34m\"white\"\u001b[0m\u001b[0;34m,\u001b[0m \u001b[0mpalette\u001b[0m\u001b[0;34m=\u001b[0m\u001b[0;34m\"muted\"\u001b[0m\u001b[0;34m,\u001b[0m \u001b[0mcolor_codes\u001b[0m\u001b[0;34m=\u001b[0m\u001b[0;32mTrue\u001b[0m\u001b[0;34m)\u001b[0m\u001b[0;34m\u001b[0m\u001b[0m\n\u001b[0;32m----> 4\u001b[0;31m \u001b[0mf\u001b[0m\u001b[0;34m,\u001b[0m \u001b[0maxes\u001b[0m \u001b[0;34m=\u001b[0m \u001b[0mplt\u001b[0m\u001b[0;34m.\u001b[0m\u001b[0msubplots\u001b[0m\u001b[0;34m(\u001b[0m\u001b[0;36m2\u001b[0m\u001b[0;34m,\u001b[0m\u001b[0;36m2\u001b[0m\u001b[0;34m,\u001b[0m\u001b[0mfigsize\u001b[0m\u001b[0;34m=\u001b[0m\u001b[0;34m(\u001b[0m\u001b[0;36m10\u001b[0m\u001b[0;34m,\u001b[0m \u001b[0;36m10\u001b[0m\u001b[0;34m)\u001b[0m\u001b[0;34m,\u001b[0m \u001b[0msharex\u001b[0m\u001b[0;34m=\u001b[0m\u001b[0;32mFalse\u001b[0m\u001b[0;34m,\u001b[0m \u001b[0msharey\u001b[0m \u001b[0;34m=\u001b[0m \u001b[0;32mFalse\u001b[0m\u001b[0;34m)\u001b[0m\u001b[0;34m\u001b[0m\u001b[0m\n\u001b[0m\u001b[1;32m      5\u001b[0m \u001b[0msns\u001b[0m\u001b[0;34m.\u001b[0m\u001b[0mdespine\u001b[0m\u001b[0;34m(\u001b[0m\u001b[0mleft\u001b[0m\u001b[0;34m=\u001b[0m\u001b[0;32mTrue\u001b[0m\u001b[0;34m)\u001b[0m\u001b[0;34m\u001b[0m\u001b[0m\n\u001b[1;32m      6\u001b[0m \u001b[0msns\u001b[0m\u001b[0;34m.\u001b[0m\u001b[0mdistplot\u001b[0m\u001b[0;34m(\u001b[0m\u001b[0mtrain\u001b[0m\u001b[0;34m[\u001b[0m\u001b[0;34m'pickup_latitude'\u001b[0m\u001b[0;34m]\u001b[0m\u001b[0;34m.\u001b[0m\u001b[0mvalues\u001b[0m\u001b[0;34m,\u001b[0m \u001b[0mlabel\u001b[0m \u001b[0;34m=\u001b[0m \u001b[0;34m'pickup_latitude'\u001b[0m\u001b[0;34m,\u001b[0m\u001b[0mcolor\u001b[0m\u001b[0;34m=\u001b[0m\u001b[0;34m\"m\"\u001b[0m\u001b[0;34m,\u001b[0m\u001b[0mbins\u001b[0m \u001b[0;34m=\u001b[0m \u001b[0;36m100\u001b[0m\u001b[0;34m,\u001b[0m \u001b[0max\u001b[0m\u001b[0;34m=\u001b[0m\u001b[0maxes\u001b[0m\u001b[0;34m[\u001b[0m\u001b[0;36m0\u001b[0m\u001b[0;34m,\u001b[0m\u001b[0;36m0\u001b[0m\u001b[0;34m]\u001b[0m\u001b[0;34m)\u001b[0m\u001b[0;34m\u001b[0m\u001b[0m\n",
      "\u001b[0;31mNameError\u001b[0m: name 'plt' is not defined"
     ]
    }
   ],
   "source": [
    "start = time.time()\n",
    "# seaborn sns\n",
    "sns.set(style=\"white\", palette=\"muted\", color_codes=True)\n",
    "f, axes = plt.subplots(2,2,figsize=(10, 10), sharex=False, sharey = False)\n",
    "sns.despine(left=True)\n",
    "sns.distplot(train['pickup_latitude'].values, label = 'pickup_latitude',color=\"m\",bins = 100, ax=axes[0,0])\n",
    "sns.distplot(train['pickup_longitude'].values, label = 'pickup_longitude',color=\"m\",bins =100, ax=axes[0,1])\n",
    "sns.distplot(train['dropoff_latitude'].values, label = 'dropoff_latitude',color=\"m\",bins =100, ax=axes[1, 0])\n",
    "sns.distplot(train['dropoff_longitude'].values, label = 'dropoff_longitude',color=\"m\",bins =100, ax=axes[1, 1])\n",
    "plt.setp(axes, yticks=[])\n",
    "plt.tight_layout()\n",
    "end = time.time()\n",
    "plt.show()"
   ]
  },
  {
   "cell_type": "code",
   "execution_count": null,
   "metadata": {
    "collapsed": true
   },
   "outputs": [],
   "source": [
    "allLat  = np.array(list(train['pickup_latitude'])  + list(train['dropoff_latitude']))\n",
    "allLong = np.array(list(train['pickup_longitude']) + list(train['dropoff_longitude']))\n",
    "\n",
    "# longitude and latitude limits\n",
    "longLimits = [np.percentile(allLong, 0.5), np.percentile(allLong, 99.5)]\n",
    "latLimits  = [np.percentile(allLat , 0.5), np.percentile(allLat , 99.5)]"
   ]
  },
  {
   "cell_type": "code",
   "execution_count": null,
   "metadata": {
    "collapsed": true
   },
   "outputs": [],
   "source": [
    "city_long_x=longLimits[0]\n",
    "city_long_y=longLimits[1]\n",
    "city_lat_x =latLimits[0]\n",
    "city_lat_y=latLimits[1]\n",
    "\n",
    "# clean-up\n",
    "train = train[train['pickup_longitude'] <= city_long_y]\n",
    "train = train[train['pickup_longitude'] >= city_long_x]\n",
    "train = train[train['pickup_latitude'] <= city_lat_y]\n",
    "train = train[train['pickup_latitude'] >= city_lat_x]\n",
    "train = train[train['dropoff_longitude'] <= city_long_y]\n",
    "train = train[train['dropoff_longitude'] >= city_long_x]\n",
    "train = train[train['dropoff_latitude'] <= city_lat_y]\n",
    "train = train[train['dropoff_latitude'] >= city_lat_x]"
   ]
  },
  {
   "cell_type": "code",
   "execution_count": null,
   "metadata": {},
   "outputs": [],
   "source": [
    "start = time.time()\n",
    "sns.set(style=\"white\", palette=\"muted\", color_codes=True)\n",
    "f, axes = plt.subplots(2,2,figsize=(10, 10), sharex=False, sharey = False)\n",
    "sns.despine(left=True)\n",
    "sns.distplot(train['pickup_latitude'].values, label = 'pickup_latitude',color=\"m\",bins = 100, ax=axes[0,0])\n",
    "sns.distplot(train['pickup_longitude'].values, label = 'pickup_longitude',color=\"m\",bins =100, ax=axes[0,1])\n",
    "sns.distplot(train['dropoff_latitude'].values, label = 'dropoff_latitude',color=\"m\",bins =100, ax=axes[1, 0])\n",
    "sns.distplot(train['dropoff_longitude'].values, label = 'dropoff_longitude',color=\"m\",bins =100, ax=axes[1, 1])\n",
    "plt.setp(axes, yticks=[])\n",
    "plt.tight_layout()\n",
    "end = time.time()\n",
    "plt.show()"
   ]
  },
  {
   "cell_type": "markdown",
   "metadata": {},
   "source": [
    "## Trip Duration Clean-up\n",
    "Deal with **outliers** associated with the `trip_duration` variable  \n",
    "Exclude data that lies outside 2 standard deviations from the mean. "
   ]
  },
  {
   "cell_type": "code",
   "execution_count": 7,
   "metadata": {
    "collapsed": true
   },
   "outputs": [],
   "source": [
    "# m = np.mean(train['trip_duration'])\n",
    "# s = np.std(train['trip_duration'])\n",
    "# train = train[train['trip_duration'] <= m + 2*s]\n",
    "# train = train[train['trip_duration'] >= m - 2*s]"
   ]
  },
  {
   "cell_type": "markdown",
   "metadata": {},
   "source": [
    "## Check Missing Values \n",
    "check whether we have data missing in the train and the test set."
   ]
  },
  {
   "cell_type": "code",
   "execution_count": null,
   "metadata": {
    "scrolled": true
   },
   "outputs": [],
   "source": [
    "print(train.isnull().sum())"
   ]
  },
  {
   "cell_type": "code",
   "execution_count": null,
   "metadata": {
    "scrolled": true
   },
   "outputs": [],
   "source": [
    "print(test.isnull().sum())"
   ]
  },
  {
   "cell_type": "markdown",
   "metadata": {},
   "source": [
    "**Good! no N/A values**"
   ]
  },
  {
   "cell_type": "markdown",
   "metadata": {},
   "source": [
    "## Check for duplicate ids"
   ]
  },
  {
   "cell_type": "code",
   "execution_count": null,
   "metadata": {},
   "outputs": [],
   "source": [
    "print('No of Duplicates, Trip IDs: {}'.format(len(train) - len(train.drop_duplicates(subset='id'))))"
   ]
  },
  {
   "cell_type": "markdown",
   "metadata": {},
   "source": [
    "## Check Number of Passengers\n",
    "The common sense implies values between 1 and 10, we should check 0"
   ]
  },
  {
   "cell_type": "code",
   "execution_count": null,
   "metadata": {},
   "outputs": [],
   "source": [
    "print('Passengers: {} to {}'.format(train.passenger_count.min(), train.passenger_count.max()))"
   ]
  },
  {
   "cell_type": "markdown",
   "metadata": {},
   "source": [
    "## Passenger_Count Clean-up"
   ]
  },
  {
   "cell_type": "markdown",
   "metadata": {},
   "source": [
    "let's also drop trips with passenger count = 0"
   ]
  },
  {
   "cell_type": "code",
   "execution_count": null,
   "metadata": {},
   "outputs": [],
   "source": [
    "print('Empty trips: {}'.format(train[train.passenger_count == 0].shape[0]))\n",
    "train = train[train.passenger_count > 0]\n",
    "print('Dropped trips with no passengers')"
   ]
  },
  {
   "cell_type": "code",
   "execution_count": null,
   "metadata": {
    "collapsed": true
   },
   "outputs": [],
   "source": [
    "# Consistency check (check to see whether dropoff_time - pickup_time = duration)\n",
    "# distributions of pickup_datetime and dropoff_datetime\n",
    "# Add histogram of trip duration, x-axis is trip duration time (in min), y-axis is counts\n",
    "# Add histogram of trip duration to show how to remove extre data\n",
    "# Add histogram of different vendor-id, x-axis:Day (monday, tuesday, etc), y-axis: total count of pick-ups\n",
    "# Add histogram of different vendor-id, x-axis:hour, y-axis: total count of pick-ups\n",
    "# Add histogram of Pickup date/time vs trip_duration\n",
    "# WeekDay Trip Distribution for different hours of the day\n",
    "# WeekEnd Trip Distribution for different hours of the day\n",
    "\n",
    "# Weekly Trip Distribution for different days of the week\n",
    "# Yearly Trip Distribution for different days of the year\n"
   ]
  },
  {
   "cell_type": "code",
   "execution_count": null,
   "metadata": {
    "collapsed": true
   },
   "outputs": [],
   "source": [
    "train['dropoff_datetime'] = pd.to_datetime(train.dropoff_datetime)\n",
    "train['dropoff_hour'] = pd.DatetimeIndex(train['dropoff_datetime']).hour\n",
    "train['pickup_datetime'] = pd.to_datetime(train.pickup_datetime)\n",
    "train['pickup_hour'] = pd.DatetimeIndex(train['pickup_datetime']).hour\n",
    "total_rows = len(train.index)"
   ]
  },
  {
   "cell_type": "code",
   "execution_count": null,
   "metadata": {
    "scrolled": true
   },
   "outputs": [],
   "source": [
    "train.head()"
   ]
  },
  {
   "cell_type": "markdown",
   "metadata": {},
   "source": [
    "# Heat Map"
   ]
  },
  {
   "cell_type": "code",
   "execution_count": null,
   "metadata": {
    "collapsed": true
   },
   "outputs": [],
   "source": [
    "heat_df =train.sample(n=10000)\n",
    "\n",
    "#Extract required columns\n",
    "heat_df = heat_df[['dropoff_latitude', 'dropoff_longitude','dropoff_hour', 'pickup_latitude', 'pickup_longitude','pickup_hour']]\n",
    "\n",
    "\n",
    "# Ensure you're handing it floats\n",
    "heat_df['dropoff_latitude'] = heat_df['dropoff_latitude'].astype(float)\n",
    "heat_df['dropoff_longitude'] = heat_df['dropoff_longitude'].astype(float)\n",
    "heat_df['pickup_latitude'] = heat_df['pickup_latitude'].astype(float)\n",
    "heat_df['pickup_longitude'] = heat_df['pickup_longitude'].astype(float)\n",
    "\n",
    "#remove NANs\n",
    "heat_df = heat_df.dropna(axis=0)\n",
    "\n",
    "\n",
    "# Create weight column, using date\n",
    "#heat_df['Weight'] = heat_df['dropoff_hour']\n",
    "heat_df['dropoff_hour'] = heat_df['dropoff_hour'].astype(float)\n",
    "heat_df['pickup_hour'] = heat_df['pickup_hour'].astype(float)\n",
    "heat_df = heat_df.dropna(axis=0, subset=['dropoff_latitude','dropoff_longitude', 'dropoff_hour','pickup_latitude','pickup_longitude', 'pickup_hour'])"
   ]
  },
  {
   "cell_type": "code",
   "execution_count": null,
   "metadata": {},
   "outputs": [],
   "source": [
    "# Display the map based on the pickup location within the time range of (0,24)\n",
    "# Use Folium to generate heatmap\n",
    "heat_data_pickup = [[[row['pickup_latitude'],row['pickup_longitude']] \n",
    "                for index, row in heat_df[heat_df['pickup_hour'] == i].iterrows()] \n",
    "                 for i in range(0,24)]\n",
    "newyork_on_heatmap_1 = folium.Map(location=[40.767937,-73.982155 ],tiles= \"Stamen Terrain\",\n",
    "                    zoom_start = 13)\n",
    "hm = plugins.HeatMapWithTime(heat_data_pickup,auto_play=True,max_opacity=0.8)\n",
    "hm.add_to(newyork_on_heatmap_1)\n",
    "\n",
    "newyork_on_heatmap_1"
   ]
  },
  {
   "cell_type": "code",
   "execution_count": null,
   "metadata": {},
   "outputs": [],
   "source": [
    "# Display the map based on the dropoff location within the time range of (0,24)\n",
    "newyork_on_heatmap = folium.Map(location=[40.767937,-73.982155 ],tiles= \"Stamen Terrain\",\n",
    "                    zoom_start = 13) \n",
    "\n",
    "# List comprehension to make out list of lists\n",
    "heat_data = [[[row['dropoff_latitude'],row['dropoff_longitude']] \n",
    "                for index, row in heat_df[heat_df['dropoff_hour'] == i].iterrows()] \n",
    "                 for i in range(0,24)]\n",
    "\n",
    "# Plot it on the map\n",
    "hm = plugins.HeatMapWithTime(heat_data,auto_play=True,max_opacity=0.8)\n",
    "hm.add_to(newyork_on_heatmap)\n",
    "\n",
    "newyork_on_heatmap"
   ]
  },
  {
   "cell_type": "code",
   "execution_count": null,
   "metadata": {
    "collapsed": true
   },
   "outputs": [],
   "source": [
    "train.loc[:, 'day_of_week'] = train['pickup_datetime'].dt.dayofweek"
   ]
  },
  {
   "cell_type": "code",
   "execution_count": null,
   "metadata": {
    "scrolled": false
   },
   "outputs": [],
   "source": [
    "summary_wdays_avg_duration = pd.DataFrame(train.groupby(['vendor_id','day_of_week'])['trip_duration'].mean())\n",
    "summary_wdays_avg_duration.reset_index(inplace = True)\n",
    "summary_wdays_avg_duration['unit']=1\n",
    "sns.set(style=\"white\", palette=\"muted\", color_codes=True)\n",
    "sns.set_context(\"poster\")\n",
    "sns.tsplot(data=summary_wdays_avg_duration, time=\"day_of_week\", unit = \"unit\", condition=\"vendor_id\", value=\"trip_duration\")\n",
    "sns.despine(bottom = False)"
   ]
  },
  {
   "cell_type": "markdown",
   "metadata": {},
   "source": [
    "# Spatial density plot of the pickup and dropoff locations"
   ]
  },
  {
   "cell_type": "code",
   "execution_count": null,
   "metadata": {},
   "outputs": [],
   "source": [
    "#%% plot scatter of trip duration vs. aerial distance between pickup and dropoff\n",
    "train['log duration']       = np.log1p(train['duration [min]'])\n",
    "train['euclidian distance'] = np.sqrt((train['src lat [km]']  - train['dst lat [km]'] )**2 + \n",
    "                                       (train['src long [km]'] - train['dst long [km]'])**2)\n",
    "\n",
    "fig, axArray = plt.subplots(nrows=1,ncols=2,figsize=(13,6))\n",
    "axArray[0].scatter(train['euclidian distance'], train['duration [min]'],c='r',s=5,alpha=0.01); \n",
    "axArray[0].set_xlabel('Aerial Euclidian Distance [km]'); axArray[0].set_ylabel('Duration [min]')\n",
    "axArray[0].set_xlim(train['euclidian distance'].min(),train['euclidian distance'].max())\n",
    "axArray[0].set_ylim(train['duration [min]'].min(),train['duration [min]'].max())\n",
    "axArray[0].set_title('trip Duration vs Aerial trip Distance')\n",
    "\n",
    "axArray[1].scatter(train['euclidian distance'], train['log duration'],c='r',s=5,alpha=0.01); \n",
    "axArray[1].set_xlabel('Aerial Euclidian Distance [km]'); axArray[1].set_ylabel('log(1+Duration) [log(min)]')\n",
    "axArray[1].set_xlim(train['euclidian distance'].min(),train['euclidian distance'].max())\n",
    "axArray[1].set_ylim(train['log duration'].min(),train['log duration'].max())\n",
    "axArray[1].set_title('log of trip Duration vs Aerial trip Distance')"
   ]
  },
  {
   "cell_type": "code",
   "execution_count": null,
   "metadata": {
    "scrolled": true
   },
   "outputs": [],
   "source": [
    "# show the log density of pickup and dropoff locations\n",
    "imageSize = (700,700)\n",
    "longRange = [-5,19]\n",
    "latRange = [-13,11]\n",
    "\n",
    "allLatInds  = imageSize[0] - (imageSize[0] * (allLat  - latRange[0])  / (latRange[1]  - latRange[0]) ).astype(int)\n",
    "allLongInds =                (imageSize[1] * (allLong - longRange[0]) / (longRange[1] - longRange[0])).astype(int)\n",
    "\n",
    "locationDensityImage = np.zeros(imageSize)\n",
    "for latInd, longInd in zip(allLatInds,allLongInds):\n",
    "    locationDensityImage[latInd,longInd] += 1\n",
    "\n",
    "fig, ax = plt.subplots(nrows=1,ncols=1,figsize=(12,12))\n",
    "ax.imshow(np.log(locationDensityImage+1),cmap='hot')\n",
    "ax.set_axis_off()"
   ]
  },
  {
   "cell_type": "code",
   "execution_count": null,
   "metadata": {
    "collapsed": true
   },
   "outputs": [],
   "source": []
  }
 ],
 "metadata": {
  "kernelspec": {
   "display_name": "Python 3",
   "language": "python",
   "name": "python3"
  },
  "language_info": {
   "codemirror_mode": {
    "name": "ipython",
    "version": 3
   },
   "file_extension": ".py",
   "mimetype": "text/x-python",
   "name": "python",
   "nbconvert_exporter": "python",
   "pygments_lexer": "ipython3",
   "version": "3.6.3"
  }
 },
 "nbformat": 4,
 "nbformat_minor": 2
}
